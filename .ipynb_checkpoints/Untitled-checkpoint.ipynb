{
 "cells": [
  {
   "cell_type": "code",
   "execution_count": 86,
   "id": "83475cd6",
   "metadata": {},
   "outputs": [
    {
     "name": "stdout",
     "output_type": "stream",
     "text": [
      "24\n"
     ]
    }
   ],
   "source": [
    "# Import necessary libraries\n",
    "from selenium import webdriver\n",
    "from selenium.webdriver.chrome.service import Service\n",
    "from selenium.webdriver.common.by import By  # Import By module to specify the locator strategy\n",
    "\n",
    "# Specify the path to chromedriver.exe (download and save on your computer)\n",
    "chromedriver_path = 'C:/Users/gabriel.githinji/Desktop/areawork/chromedriver-win32/chromedriver.exe'\n",
    "\n",
    "# URL of the webpage\n",
    "url = \"https://www.ubereats.com/?slr=1\"\n",
    "\n",
    "# Configure Chrome options\n",
    "chrome_options = webdriver.ChromeOptions()\n",
    "\n",
    "# Initialize the WebDriver with the specified path to chromedriver.exe and options\n",
    "driver = webdriver.Chrome(service=Service(executable_path=chromedriver_path), options=chrome_options)\n",
    "\n",
    "# Open the webpage\n",
    "driver.get(url)\n",
    "\n",
    "# Find all anchor elements\n",
    "elements = driver.find_elements(By.TAG_NAME, \"a\")\n",
    "\n",
    "#NB:The website elements are dynamic so i can'tuse class tags\n",
    "# Filter the anchor elements to extract only those containing \"/city/\"\n",
    "city_elements = [element for element in elements if \"/city/\" in element.get_attribute(\"href\")]\n",
    "\n",
    "# Extract the city names from the filtered anchor elements\n",
    "cities = [element.text for element in city_elements]\n",
    "\n",
    "# Print the list of cities\n",
    "print(len(cities))\n",
    "\n",
    "# Close the WebDriver\n",
    "driver.quit()\n"
   ]
  },
  {
   "cell_type": "code",
   "execution_count": null,
   "id": "ae246564",
   "metadata": {},
   "outputs": [],
   "source": [
    "# Import necessary libraries\n",
    "from selenium import webdriver\n",
    "from selenium.webdriver.chrome.service import Service\n",
    "from selenium.webdriver.common.by import By  # Import By module to specify the locator strategy\n",
    "from selenium.webdriver.support.ui import WebDriverWait\n",
    "from selenium.webdriver.support import expected_conditions as EC\n",
    "\n",
    "# Specify the path to chromedriver.exe (download and save on your computer)\n",
    "chromedriver_path = 'C:/Users/gabriel.githinji/Desktop/areawork/chromedriver-win32/chromedriver.exe'\n",
    "\n",
    "# URL of the webpage\n",
    "url = \"https://www.ubereats.com/?slr=1\"\n",
    "\n",
    "# Configure Chrome options\n",
    "chrome_options = webdriver.ChromeOptions()\n",
    "\n",
    "# Initialize the WebDriver with the specified path to chromedriver.exe and options\n",
    "driver = webdriver.Chrome(service=Service(executable_path=chromedriver_path), options=chrome_options)\n",
    "\n",
    "# Open the webpage\n",
    "driver.get(url)\n",
    "\n",
    "# Find all anchor elements\n",
    "elements = driver.find_elements(By.TAG_NAME, \"a\")\n",
    "\n",
    "# Filter the anchor elements to extract only those containing \"/city/\"\n",
    "city_elements = [element for element in elements if \"/city/\" in element.get_attribute(\"href\")]\n",
    "\n",
    "# Extract the city names from the filtered anchor elements\n",
    "cities = [element.text for element in city_elements]\n",
    "\n",
    "# Loop over the cities and perform actions\n",
    "for city in cities:\n",
    "    # Click on the city link\n",
    "    city_link = driver.find_element(By.XPATH, f\"//a[contains(text(), '{city}')]\")\n",
    "    city_link.click()\n",
    "    \n",
    "    # Wait until the city page is loaded\n",
    "    WebDriverWait(driver, 10).until(EC.url_contains(city.lower().replace(\" \", \"-\")))\n",
    "    \n",
    "    # Do something on the city page (e.g., print the city name)\n",
    "    print(\"Currently on\", city)\n",
    "    \n",
    "    # Go back to the main page\n",
    "    driver.back()\n",
    "\n",
    "# Close the WebDriver\n",
    "driver.quit()\n"
   ]
  },
  {
   "cell_type": "code",
   "execution_count": 90,
   "id": "b37d8d65",
   "metadata": {
    "scrolled": true
   },
   "outputs": [
    {
     "name": "stdout",
     "output_type": "stream",
     "text": [
      "Currently on Akron\n",
      "Healthy Food Links:\n",
      "\n",
      "Asian Food Links:\n"
     ]
    }
   ],
   "source": [
    "# Import necessary libraries\n",
    "from selenium import webdriver\n",
    "from selenium.webdriver.chrome.service import Service\n",
    "from selenium.webdriver.common.by import By  # Import By module to specify the locator strategy\n",
    "from selenium.webdriver.support.ui import WebDriverWait\n",
    "from selenium.webdriver.support import expected_conditions as EC\n",
    "\n",
    "# Specify the path to chromedriver.exe (download and save on your computer)\n",
    "chromedriver_path = 'C:/Users/gabriel.githinji/Desktop/areawork/chromedriver-win32/chromedriver.exe'\n",
    "\n",
    "# URL of the webpage\n",
    "url = \"https://www.ubereats.com/?slr=1\"\n",
    "\n",
    "# Configure Chrome options\n",
    "chrome_options = webdriver.ChromeOptions()\n",
    "\n",
    "# Initialize the WebDriver with the specified path to chromedriver.exe and options\n",
    "driver = webdriver.Chrome(service=Service(executable_path=chromedriver_path), options=chrome_options)\n",
    "\n",
    "# Open the webpage\n",
    "driver.get(url)\n",
    "\n",
    "# Find all anchor elements\n",
    "elements = driver.find_elements(By.TAG_NAME, \"a\")\n",
    "\n",
    "# Filter the anchor elements to extract only those containing \"/city/\"\n",
    "city_elements = [element for element in elements if \"/city/\" in element.get_attribute(\"href\")]\n",
    "\n",
    "# Extract the first city name from the filtered anchor elements\n",
    "first_city = city_elements[0].text\n",
    "\n",
    "# Click on the first city link\n",
    "city_elements[0].click()\n",
    "\n",
    "# Wait until the city page is loaded\n",
    "WebDriverWait(driver, 10).until(EC.url_contains(first_city.lower().replace(\" \", \"-\")))\n",
    "\n",
    "# Do something on the city page (e.g., print the city name)\n",
    "print(\"Currently on\", first_city)\n",
    "\n",
    "\n",
    "# Close the WebDriver\n",
    "driver.quit()\n"
   ]
  },
  {
   "cell_type": "code",
   "execution_count": 92,
   "id": "84275939",
   "metadata": {
    "scrolled": true
   },
   "outputs": [
    {
     "name": "stdout",
     "output_type": "stream",
     "text": [
      "Healthy Food Links:\n",
      "\n",
      "Asian Food Links:\n"
     ]
    }
   ],
   "source": [
    "# Import necessary libraries\n",
    "from selenium import webdriver\n",
    "from selenium.webdriver.chrome.service import Service\n",
    "from selenium.webdriver.common.by import By  # Import By module to specify the locator strategy\n",
    "from selenium.webdriver.support.ui import WebDriverWait\n",
    "from selenium.webdriver.support import expected_conditions as EC\n",
    "\n",
    "# Specify the path to chromedriver.exe (download and save on your computer)\n",
    "chromedriver_path = 'C:/Users/gabriel.githinji/Desktop/areawork/chromedriver-win32/chromedriver.exe'\n",
    "\n",
    "# URL of the webpage\n",
    "url = \"https://www.ubereats.com/?slr=1\"\n",
    "\n",
    "# Configure Chrome options\n",
    "chrome_options = webdriver.ChromeOptions()\n",
    "\n",
    "# Initialize the WebDriver with the specified path to chromedriver.exe and options\n",
    "driver = webdriver.Chrome(service=Service(executable_path=chromedriver_path), options=chrome_options)\n",
    "\n",
    "# Open the webpage\n",
    "driver.get(url)\n",
    "\n",
    "# Find all anchor elements\n",
    "elements = driver.find_elements(By.TAG_NAME, \"a\")\n",
    "\n",
    "# Filter the anchor elements to extract Healthy and Asian food links\n",
    "healthy_links = [element.get_attribute(\"href\") for element in elements if \"/category/akron-oh/healthy/\" in element.get_attribute(\"href\")]\n",
    "asian_links = [element.get_attribute(\"href\") for element in elements if \"/category/akron-oh/asian/\" in element.get_attribute(\"href\")]\n",
    "\n",
    "# Close the WebDriver\n",
    "driver.quit()\n",
    "\n",
    "# Print the extracted links for Healthy and Asian foods\n",
    "print(\"Healthy Food Links:\")\n",
    "for link in healthy_links:\n",
    "    print(link)\n",
    "\n",
    "print(\"\\nAsian Food Links:\")\n",
    "for link in asian_links:\n",
    "    print(link)\n"
   ]
  },
  {
   "cell_type": "code",
   "execution_count": 21,
   "id": "e4f0ad46",
   "metadata": {},
   "outputs": [],
   "source": [
    "#imports here\n",
    "from selenium import webdriver\n",
    "from selenium.webdriver.common.keys import Keys\n",
    "from selenium.webdriver.support import expected_conditions as EC\n",
    "from selenium.webdriver.common.by import By\n",
    "from selenium.webdriver.support.wait import WebDriverWait\n",
    "import time"
   ]
  },
  {
   "cell_type": "code",
   "execution_count": 61,
   "id": "02b2d212",
   "metadata": {},
   "outputs": [
    {
     "name": "stderr",
     "output_type": "stream",
     "text": [
      "C:\\Users\\gabriel.githinji\\AppData\\Local\\Temp\\ipykernel_246532\\1547230811.py:6: DeprecationWarning: executable_path has been deprecated, please pass in a Service object\n",
      "  driver = webdriver.Chrome(executable_path=chromedriver_path)\n"
     ]
    },
    {
     "ename": "TimeoutException",
     "evalue": "Message: \n",
     "output_type": "error",
     "traceback": [
      "\u001b[1;31m---------------------------------------------------------------------------\u001b[0m",
      "\u001b[1;31mTimeoutException\u001b[0m                          Traceback (most recent call last)",
      "Cell \u001b[1;32mIn[61], line 23\u001b[0m\n\u001b[0;32m     21\u001b[0m \u001b[38;5;66;03m#target the login button and click it\u001b[39;00m\n\u001b[0;32m     22\u001b[0m button \u001b[38;5;241m=\u001b[39m WebDriverWait(driver, \u001b[38;5;241m2\u001b[39m)\u001b[38;5;241m.\u001b[39muntil(EC\u001b[38;5;241m.\u001b[39melement_to_be_clickable((By\u001b[38;5;241m.\u001b[39mCSS_SELECTOR, \u001b[38;5;124m\"\u001b[39m\u001b[38;5;124mbutton[type=\u001b[39m\u001b[38;5;124m'\u001b[39m\u001b[38;5;124msubmit\u001b[39m\u001b[38;5;124m'\u001b[39m\u001b[38;5;124m]\u001b[39m\u001b[38;5;124m\"\u001b[39m)))\u001b[38;5;241m.\u001b[39mclick()\n\u001b[1;32m---> 23\u001b[0m button \u001b[38;5;241m=\u001b[39m \u001b[43mWebDriverWait\u001b[49m\u001b[43m(\u001b[49m\u001b[43mdriver\u001b[49m\u001b[43m,\u001b[49m\u001b[43m \u001b[49m\u001b[38;5;241;43m2\u001b[39;49m\u001b[43m)\u001b[49m\u001b[38;5;241;43m.\u001b[39;49m\u001b[43muntil\u001b[49m\u001b[43m(\u001b[49m\u001b[43mEC\u001b[49m\u001b[38;5;241;43m.\u001b[39;49m\u001b[43melement_to_be_clickable\u001b[49m\u001b[43m(\u001b[49m\u001b[43m(\u001b[49m\u001b[43mBy\u001b[49m\u001b[38;5;241;43m.\u001b[39;49m\u001b[43mCSS_SELECTOR\u001b[49m\u001b[43m,\u001b[49m\u001b[43m \u001b[49m\u001b[38;5;124;43m\"\u001b[39;49m\u001b[38;5;124;43mbutton[type=\u001b[39;49m\u001b[38;5;124;43m'\u001b[39;49m\u001b[38;5;124;43msubmit\u001b[39;49m\u001b[38;5;124;43m'\u001b[39;49m\u001b[38;5;124;43m]\u001b[39;49m\u001b[38;5;124;43m\"\u001b[39;49m\u001b[43m)\u001b[49m\u001b[43m)\u001b[49m\u001b[43m)\u001b[49m\u001b[38;5;241m.\u001b[39mclick()\n\u001b[0;32m     25\u001b[0m \u001b[38;5;66;03m#target the search input field\u001b[39;00m\n\u001b[0;32m     26\u001b[0m searchbox \u001b[38;5;241m=\u001b[39m WebDriverWait(driver, \u001b[38;5;241m10\u001b[39m)\u001b[38;5;241m.\u001b[39muntil(EC\u001b[38;5;241m.\u001b[39melement_to_be_clickable((By\u001b[38;5;241m.\u001b[39mXPATH, \u001b[38;5;124m\"\u001b[39m\u001b[38;5;124m//input[@placeholder=\u001b[39m\u001b[38;5;124m'\u001b[39m\u001b[38;5;124mSearch\u001b[39m\u001b[38;5;124m'\u001b[39m\u001b[38;5;124m]\u001b[39m\u001b[38;5;124m\"\u001b[39m)))\n",
      "File \u001b[1;32m~\\Anaconda3\\lib\\site-packages\\selenium\\webdriver\\support\\wait.py:95\u001b[0m, in \u001b[0;36mWebDriverWait.until\u001b[1;34m(self, method, message)\u001b[0m\n\u001b[0;32m     93\u001b[0m     \u001b[38;5;28;01mif\u001b[39;00m time\u001b[38;5;241m.\u001b[39mmonotonic() \u001b[38;5;241m>\u001b[39m end_time:\n\u001b[0;32m     94\u001b[0m         \u001b[38;5;28;01mbreak\u001b[39;00m\n\u001b[1;32m---> 95\u001b[0m \u001b[38;5;28;01mraise\u001b[39;00m TimeoutException(message, screen, stacktrace)\n",
      "\u001b[1;31mTimeoutException\u001b[0m: Message: \n"
     ]
    }
   ],
   "source": [
    "#specify the path to chromedriver.exe (download and save on your computer)\n",
    "# Specify the path to chromedriver.exe (download and save on your computer)\n",
    "chromedriver_path = 'C:/Users/gabriel.githinji/Desktop/areawork/chromedriver-win32/chromedriver.exe'\n",
    "\n",
    "# Initialize Chrome WebDriver\n",
    "driver = webdriver.Chrome(executable_path=chromedriver_path)\n",
    "\n",
    "#open the webpage\n",
    "driver.get(\"http://www.instagram.com\")\n",
    "\n",
    "#target username\n",
    "username = WebDriverWait(driver, 10).until(EC.element_to_be_clickable((By.CSS_SELECTOR, \"input[name='username']\")))\n",
    "password = WebDriverWait(driver, 10).until(EC.element_to_be_clickable((By.CSS_SELECTOR, \"input[name='password']\")))\n",
    "\n",
    "#enter username and password\n",
    "username.clear()\n",
    "username.send_keys(\"gathungugabriel\")\n",
    "password.clear()\n",
    "password.send_keys(\"githinji\")\n",
    "\n",
    "#target the login button and click it\n",
    "button = WebDriverWait(driver, 2).until(EC.element_to_be_clickable((By.CSS_SELECTOR, \"button[type='submit']\"))).click()\n",
    "button = WebDriverWait(driver, 2).until(EC.element_to_be_clickable((By.CSS_SELECTOR, \"button[type='submit']\"))).click()\n",
    "\n",
    "#target the search input field\n",
    "searchbox = WebDriverWait(driver, 10).until(EC.element_to_be_clickable((By.XPATH, \"//input[@placeholder='Search']\")))\n",
    "searchbox.clear()\n",
    "\n",
    "time.sleep(5)  # Wait for 5 seconds\n",
    "\n",
    "try:\n",
    "    alert = WebDriverWait(driver, 15).until(EC.element_to_be_clickable((By.XPATH, '//div[contains(text(), \"Save info\")]')))\n",
    "    alert.click()\n",
    "except TimeoutException:\n",
    "    print(\"Element not found or clickable within the specified time.\")\n",
    "\n",
    "# #search for the hashtag cat\n",
    "# keyword = \"#cat\"\n",
    "# searchbox.send_keys(keyword)\n",
    " \n",
    "# #FIXING THE DOUBLE ENTER\n",
    "# time.sleep(5) # Wait for 5 seconds\n",
    "# my_link = WebDriverWait(driver, 10).until(EC.element_to_be_clickable((By.XPATH, \"//a[contains(@href, '/\" + keyword[1:] + \"/')]\")))\n",
    "# my_link.click()"
   ]
  },
  {
   "cell_type": "code",
   "execution_count": 73,
   "id": "ae62464e",
   "metadata": {},
   "outputs": [
    {
     "name": "stderr",
     "output_type": "stream",
     "text": [
      "C:\\Users\\gabriel.githinji\\AppData\\Local\\Temp\\ipykernel_246532\\2654905479.py:34: DeprecationWarning: executable_path has been deprecated, please pass in a Service object\n",
      "  driver = webdriver.Chrome(executable_path=chromedriver_path)\n"
     ]
    },
    {
     "ename": "WebDriverException",
     "evalue": "Message: unknown error: net::ERR_CONNECTION_TIMED_OUT\n  (Session info: chrome=123.0.6312.58)\nStacktrace:\n\tGetHandleVerifier [0x002F4CE3+225091]\n\t(No symbol) [0x00224E31]\n\t(No symbol) [0x000C9A7A]\n\t(No symbol) [0x000C60BF]\n\t(No symbol) [0x000BB13C]\n\t(No symbol) [0x000BC1CF]\n\t(No symbol) [0x000BB3A3]\n\t(No symbol) [0x000BADC3]\n\t(No symbol) [0x000BACF3]\n\t(No symbol) [0x000B93C3]\n\t(No symbol) [0x000B9A1B]\n\t(No symbol) [0x000CBC78]\n\t(No symbol) [0x001363D1]\n\t(No symbol) [0x0011F55C]\n\t(No symbol) [0x00135CB0]\n\t(No symbol) [0x0011F2F6]\n\t(No symbol) [0x000F79B9]\n\t(No symbol) [0x000F879D]\n\tsqlite3_dbdata_init [0x00769A83+4064547]\n\tsqlite3_dbdata_init [0x0077108A+4094762]\n\tsqlite3_dbdata_init [0x0076B988+4072488]\n\tsqlite3_dbdata_init [0x0046C9E9+930953]\n\t(No symbol) [0x00230804]\n\t(No symbol) [0x0022AD28]\n\t(No symbol) [0x0022AE51]\n\t(No symbol) [0x0021CAC0]\n\tBaseThreadInitThunk [0x774BFCC9+25]\n\tRtlGetAppContainerNamedObjectPath [0x77877C5E+286]\n\tRtlGetAppContainerNamedObjectPath [0x77877C2E+238]\n\t(No symbol) [0x00000000]\n",
     "output_type": "error",
     "traceback": [
      "\u001b[1;31m---------------------------------------------------------------------------\u001b[0m",
      "\u001b[1;31mWebDriverException\u001b[0m                        Traceback (most recent call last)",
      "Cell \u001b[1;32mIn[73], line 37\u001b[0m\n\u001b[0;32m     34\u001b[0m driver \u001b[38;5;241m=\u001b[39m webdriver\u001b[38;5;241m.\u001b[39mChrome(executable_path\u001b[38;5;241m=\u001b[39mchromedriver_path)\n\u001b[0;32m     36\u001b[0m \u001b[38;5;66;03m#open the webpage\u001b[39;00m\n\u001b[1;32m---> 37\u001b[0m \u001b[43mdriver\u001b[49m\u001b[38;5;241;43m.\u001b[39;49m\u001b[43mget\u001b[49m\u001b[43m(\u001b[49m\u001b[38;5;124;43m\"\u001b[39;49m\u001b[38;5;124;43mhttp://192.168.50.110/authentication/login\u001b[39;49m\u001b[38;5;124;43m\"\u001b[39;49m\u001b[43m)\u001b[49m\n\u001b[0;32m     39\u001b[0m \u001b[38;5;66;03m# Target the username field and enter username\u001b[39;00m\n\u001b[0;32m     40\u001b[0m username \u001b[38;5;241m=\u001b[39m WebDriverWait(driver, \u001b[38;5;241m10\u001b[39m)\u001b[38;5;241m.\u001b[39muntil(EC\u001b[38;5;241m.\u001b[39melement_to_be_clickable((By\u001b[38;5;241m.\u001b[39mCSS_SELECTOR, \u001b[38;5;124m\"\u001b[39m\u001b[38;5;124minput[formcontrolname=\u001b[39m\u001b[38;5;124m'\u001b[39m\u001b[38;5;124musername\u001b[39m\u001b[38;5;124m'\u001b[39m\u001b[38;5;124m]\u001b[39m\u001b[38;5;124m\"\u001b[39m)))\n",
      "File \u001b[1;32m~\\Anaconda3\\lib\\site-packages\\selenium\\webdriver\\remote\\webdriver.py:449\u001b[0m, in \u001b[0;36mWebDriver.get\u001b[1;34m(self, url)\u001b[0m\n\u001b[0;32m    447\u001b[0m \u001b[38;5;28;01mdef\u001b[39;00m \u001b[38;5;21mget\u001b[39m(\u001b[38;5;28mself\u001b[39m, url: \u001b[38;5;28mstr\u001b[39m) \u001b[38;5;241m-\u001b[39m\u001b[38;5;241m>\u001b[39m \u001b[38;5;28;01mNone\u001b[39;00m:\n\u001b[0;32m    448\u001b[0m \u001b[38;5;250m    \u001b[39m\u001b[38;5;124;03m\"\"\"Loads a web page in the current browser session.\"\"\"\u001b[39;00m\n\u001b[1;32m--> 449\u001b[0m     \u001b[38;5;28;43mself\u001b[39;49m\u001b[38;5;241;43m.\u001b[39;49m\u001b[43mexecute\u001b[49m\u001b[43m(\u001b[49m\u001b[43mCommand\u001b[49m\u001b[38;5;241;43m.\u001b[39;49m\u001b[43mGET\u001b[49m\u001b[43m,\u001b[49m\u001b[43m \u001b[49m\u001b[43m{\u001b[49m\u001b[38;5;124;43m\"\u001b[39;49m\u001b[38;5;124;43murl\u001b[39;49m\u001b[38;5;124;43m\"\u001b[39;49m\u001b[43m:\u001b[49m\u001b[43m \u001b[49m\u001b[43murl\u001b[49m\u001b[43m}\u001b[49m\u001b[43m)\u001b[49m\n",
      "File \u001b[1;32m~\\Anaconda3\\lib\\site-packages\\selenium\\webdriver\\remote\\webdriver.py:440\u001b[0m, in \u001b[0;36mWebDriver.execute\u001b[1;34m(self, driver_command, params)\u001b[0m\n\u001b[0;32m    438\u001b[0m response \u001b[38;5;241m=\u001b[39m \u001b[38;5;28mself\u001b[39m\u001b[38;5;241m.\u001b[39mcommand_executor\u001b[38;5;241m.\u001b[39mexecute(driver_command, params)\n\u001b[0;32m    439\u001b[0m \u001b[38;5;28;01mif\u001b[39;00m response:\n\u001b[1;32m--> 440\u001b[0m     \u001b[38;5;28;43mself\u001b[39;49m\u001b[38;5;241;43m.\u001b[39;49m\u001b[43merror_handler\u001b[49m\u001b[38;5;241;43m.\u001b[39;49m\u001b[43mcheck_response\u001b[49m\u001b[43m(\u001b[49m\u001b[43mresponse\u001b[49m\u001b[43m)\u001b[49m\n\u001b[0;32m    441\u001b[0m     response[\u001b[38;5;124m\"\u001b[39m\u001b[38;5;124mvalue\u001b[39m\u001b[38;5;124m\"\u001b[39m] \u001b[38;5;241m=\u001b[39m \u001b[38;5;28mself\u001b[39m\u001b[38;5;241m.\u001b[39m_unwrap_value(response\u001b[38;5;241m.\u001b[39mget(\u001b[38;5;124m\"\u001b[39m\u001b[38;5;124mvalue\u001b[39m\u001b[38;5;124m\"\u001b[39m, \u001b[38;5;28;01mNone\u001b[39;00m))\n\u001b[0;32m    442\u001b[0m     \u001b[38;5;28;01mreturn\u001b[39;00m response\n",
      "File \u001b[1;32m~\\Anaconda3\\lib\\site-packages\\selenium\\webdriver\\remote\\errorhandler.py:245\u001b[0m, in \u001b[0;36mErrorHandler.check_response\u001b[1;34m(self, response)\u001b[0m\n\u001b[0;32m    243\u001b[0m         alert_text \u001b[38;5;241m=\u001b[39m value[\u001b[38;5;124m\"\u001b[39m\u001b[38;5;124malert\u001b[39m\u001b[38;5;124m\"\u001b[39m]\u001b[38;5;241m.\u001b[39mget(\u001b[38;5;124m\"\u001b[39m\u001b[38;5;124mtext\u001b[39m\u001b[38;5;124m\"\u001b[39m)\n\u001b[0;32m    244\u001b[0m     \u001b[38;5;28;01mraise\u001b[39;00m exception_class(message, screen, stacktrace, alert_text)  \u001b[38;5;66;03m# type: ignore[call-arg]  # mypy is not smart enough here\u001b[39;00m\n\u001b[1;32m--> 245\u001b[0m \u001b[38;5;28;01mraise\u001b[39;00m exception_class(message, screen, stacktrace)\n",
      "\u001b[1;31mWebDriverException\u001b[0m: Message: unknown error: net::ERR_CONNECTION_TIMED_OUT\n  (Session info: chrome=123.0.6312.58)\nStacktrace:\n\tGetHandleVerifier [0x002F4CE3+225091]\n\t(No symbol) [0x00224E31]\n\t(No symbol) [0x000C9A7A]\n\t(No symbol) [0x000C60BF]\n\t(No symbol) [0x000BB13C]\n\t(No symbol) [0x000BC1CF]\n\t(No symbol) [0x000BB3A3]\n\t(No symbol) [0x000BADC3]\n\t(No symbol) [0x000BACF3]\n\t(No symbol) [0x000B93C3]\n\t(No symbol) [0x000B9A1B]\n\t(No symbol) [0x000CBC78]\n\t(No symbol) [0x001363D1]\n\t(No symbol) [0x0011F55C]\n\t(No symbol) [0x00135CB0]\n\t(No symbol) [0x0011F2F6]\n\t(No symbol) [0x000F79B9]\n\t(No symbol) [0x000F879D]\n\tsqlite3_dbdata_init [0x00769A83+4064547]\n\tsqlite3_dbdata_init [0x0077108A+4094762]\n\tsqlite3_dbdata_init [0x0076B988+4072488]\n\tsqlite3_dbdata_init [0x0046C9E9+930953]\n\t(No symbol) [0x00230804]\n\t(No symbol) [0x0022AD28]\n\t(No symbol) [0x0022AE51]\n\t(No symbol) [0x0021CAC0]\n\tBaseThreadInitThunk [0x774BFCC9+25]\n\tRtlGetAppContainerNamedObjectPath [0x77877C5E+286]\n\tRtlGetAppContainerNamedObjectPath [0x77877C2E+238]\n\t(No symbol) [0x00000000]\n"
     ]
    }
   ],
   "source": [
    "# from selenium import webdriver\n",
    "# from selenium.webdriver.common.keys import Keys\n",
    "\n",
    "# # Check if the browser is already open\n",
    "# try:\n",
    "#     # Assuming you already have driver created somewhere\n",
    "#     driver.current_url  # Accessing any attribute to check if driver exists\n",
    "#     new_tab = True\n",
    "# except NameError:\n",
    "#     # If the driver does not exist, create a new one\n",
    "#     driver = webdriver.Chrome()  # Or any other WebDriver\n",
    "#     new_tab = False\n",
    "\n",
    "# # Open a new tab\n",
    "# if new_tab:\n",
    "#     # Use keyboard shortcut to open a new tab\n",
    "#     driver.switch_to.new_window('tab')\n",
    "# else:\n",
    "#     # Open a new tab using JavaScript\n",
    "#     driver.execute_script(\"window.open('');\")\n",
    "\n",
    "# # Switch to the newly opened tab\n",
    "# driver.switch_to.window(driver.window_handles[-1])\n",
    "\n",
    "# # Now you can continue with your scraping code\n",
    "\n",
    "\n",
    "#EDMS\n",
    "#specify the path to chromedriver.exe (download and save on your computer)\n",
    "# Specify the path to chromedriver.exe (download and save on your computer)\n",
    "chromedriver_path = 'C:/Users/gabriel.githinji/Desktop/areawork/chromedriver-win32/chromedriver.exe'\n",
    "\n",
    "# Initialize Chrome WebDriver\n",
    "driver = webdriver.Chrome(executable_path=chromedriver_path)\n",
    "\n",
    "#open the webpage\n",
    "driver.get(\"http://192.168.50.110/authentication/login\")\n",
    "\n",
    "# Target the username field and enter username\n",
    "username = WebDriverWait(driver, 10).until(EC.element_to_be_clickable((By.CSS_SELECTOR, \"input[formcontrolname='username']\")))\n",
    "username.clear()    \n",
    "username.send_keys(\"gabriel.githinji\")\n",
    "\n",
    "# Target the password field and enter password\n",
    "password = WebDriverWait(driver, 10).until(EC.element_to_be_clickable((By.CSS_SELECTOR, \"input[formcontrolname='password']\")))\n",
    "password.clear()\n",
    "password.send_keys(\"G!th!nj!77\")\n",
    "\n",
    "# Target the login button and click it\n",
    "button = WebDriverWait(driver, 10).until(EC.element_to_be_clickable((By.CSS_SELECTOR, \"button[type='button']\")))\n",
    "button.click()"
   ]
  },
  {
   "cell_type": "code",
   "execution_count": 33,
   "id": "e566d0e3",
   "metadata": {},
   "outputs": [
    {
     "ename": "TimeoutException",
     "evalue": "Message: \nStacktrace:\nRemoteError@chrome://remote/content/shared/RemoteError.sys.mjs:8:8\nWebDriverError@chrome://remote/content/shared/webdriver/Errors.sys.mjs:180:5\nNoSuchElementError@chrome://remote/content/shared/webdriver/Errors.sys.mjs:392:5\nelement.find/</<@chrome://remote/content/marionette/element.sys.mjs:275:16\n",
     "output_type": "error",
     "traceback": [
      "\u001b[1;31m---------------------------------------------------------------------------\u001b[0m",
      "\u001b[1;31mTimeoutException\u001b[0m                          Traceback (most recent call last)",
      "Cell \u001b[1;32mIn[33], line 9\u001b[0m\n\u001b[0;32m      6\u001b[0m driver\u001b[38;5;241m.\u001b[39mget(\u001b[38;5;124m\"\u001b[39m\u001b[38;5;124mhttp://192.168.50.110/landing/home\u001b[39m\u001b[38;5;124m\"\u001b[39m)\n\u001b[0;32m      8\u001b[0m \u001b[38;5;66;03m# Click on the Clerk Menu link\u001b[39;00m\n\u001b[1;32m----> 9\u001b[0m clerk_menu \u001b[38;5;241m=\u001b[39m \u001b[43mWebDriverWait\u001b[49m\u001b[43m(\u001b[49m\u001b[43mdriver\u001b[49m\u001b[43m,\u001b[49m\u001b[43m \u001b[49m\u001b[38;5;241;43m10\u001b[39;49m\u001b[43m)\u001b[49m\u001b[38;5;241;43m.\u001b[39;49m\u001b[43muntil\u001b[49m\u001b[43m(\u001b[49m\u001b[43mEC\u001b[49m\u001b[38;5;241;43m.\u001b[39;49m\u001b[43melement_to_be_clickable\u001b[49m\u001b[43m(\u001b[49m\u001b[43m(\u001b[49m\u001b[43mBy\u001b[49m\u001b[38;5;241;43m.\u001b[39;49m\u001b[43mXPATH\u001b[49m\u001b[43m,\u001b[49m\u001b[43m \u001b[49m\u001b[38;5;124;43m\"\u001b[39;49m\u001b[38;5;124;43m//a[contains(text(), \u001b[39;49m\u001b[38;5;124;43m'\u001b[39;49m\u001b[38;5;124;43mClerk Menu\u001b[39;49m\u001b[38;5;124;43m'\u001b[39;49m\u001b[38;5;124;43m)]\u001b[39;49m\u001b[38;5;124;43m\"\u001b[39;49m\u001b[43m)\u001b[49m\u001b[43m)\u001b[49m\u001b[43m)\u001b[49m\n\u001b[0;32m     10\u001b[0m clerk_menu\u001b[38;5;241m.\u001b[39mclick()\n\u001b[0;32m     12\u001b[0m \u001b[38;5;66;03m# Click on the Upload Document link\u001b[39;00m\n",
      "File \u001b[1;32m~\\Anaconda3\\lib\\site-packages\\selenium\\webdriver\\support\\wait.py:95\u001b[0m, in \u001b[0;36mWebDriverWait.until\u001b[1;34m(self, method, message)\u001b[0m\n\u001b[0;32m     93\u001b[0m     \u001b[38;5;28;01mif\u001b[39;00m time\u001b[38;5;241m.\u001b[39mmonotonic() \u001b[38;5;241m>\u001b[39m end_time:\n\u001b[0;32m     94\u001b[0m         \u001b[38;5;28;01mbreak\u001b[39;00m\n\u001b[1;32m---> 95\u001b[0m \u001b[38;5;28;01mraise\u001b[39;00m TimeoutException(message, screen, stacktrace)\n",
      "\u001b[1;31mTimeoutException\u001b[0m: Message: \nStacktrace:\nRemoteError@chrome://remote/content/shared/RemoteError.sys.mjs:8:8\nWebDriverError@chrome://remote/content/shared/webdriver/Errors.sys.mjs:180:5\nNoSuchElementError@chrome://remote/content/shared/webdriver/Errors.sys.mjs:392:5\nelement.find/</<@chrome://remote/content/marionette/element.sys.mjs:275:16\n"
     ]
    }
   ],
   "source": [
    "#EDMS\n",
    "#specify the path to chromedriver.exe (download and save on your computer)\n",
    "driver = webdriver.Firefox()\n",
    "\n",
    "# Open the webpage\n",
    "driver.get(\"http://192.168.50.110/landing/home\")\n",
    "\n",
    "# Click on the Clerk Menu link\n",
    "clerk_menu = WebDriverWait(driver, 10).until(EC.element_to_be_clickable((By.XPATH, \"//a[contains(text(), 'Clerk Menu')]\")))\n",
    "clerk_menu.click()\n",
    "\n",
    "# Click on the Upload Document link\n",
    "upload_document = WebDriverWait(driver, 10).until(EC.element_to_be_clickable((By.XPATH, \"//a[contains(text(), 'Upload Document')]\")))\n",
    "upload_document.click()\n",
    "\n",
    "# Find the file input element and send keys to upload file\n",
    "file_input = WebDriverWait(driver, 10).until(EC.element_to_be_clickable((By.CSS_SELECTOR, \"input[type='file']\")))\n",
    "file_input.send_keys(\"\\\\192.168.17.184\\muranga scans\\MURANGA\\LOCATIONS\\TOWNPLOTS\\LOC_1 TOWNPLOTS\\LOC 1_TOWN PLOTS_T.1-T.587\\TRAY 4_KIUNYU_T.57-T.88\")"
   ]
  },
  {
   "cell_type": "code",
   "execution_count": 34,
   "id": "644b985f",
   "metadata": {},
   "outputs": [
    {
     "name": "stderr",
     "output_type": "stream",
     "text": [
      "C:\\Users\\gabriel.githinji\\AppData\\Local\\Temp\\ipykernel_246532\\2238722193.py:10: DeprecationWarning: executable_path has been deprecated, please pass in a Service object\n",
      "  driver = webdriver.Chrome(executable_path=chromedriver_path)\n"
     ]
    },
    {
     "ename": "TimeoutException",
     "evalue": "Message: \nStacktrace:\n\tGetHandleVerifier [0x002F4CE3+225091]\n\t(No symbol) [0x00224E31]\n\t(No symbol) [0x000C9A7A]\n\t(No symbol) [0x0010175B]\n\t(No symbol) [0x0010188B]\n\t(No symbol) [0x00137882]\n\t(No symbol) [0x0011F5A4]\n\t(No symbol) [0x00135CB0]\n\t(No symbol) [0x0011F2F6]\n\t(No symbol) [0x000F79B9]\n\t(No symbol) [0x000F879D]\n\tsqlite3_dbdata_init [0x00769A83+4064547]\n\tsqlite3_dbdata_init [0x0077108A+4094762]\n\tsqlite3_dbdata_init [0x0076B988+4072488]\n\tsqlite3_dbdata_init [0x0046C9E9+930953]\n\t(No symbol) [0x00230804]\n\t(No symbol) [0x0022AD28]\n\t(No symbol) [0x0022AE51]\n\t(No symbol) [0x0021CAC0]\n\tBaseThreadInitThunk [0x774BFCC9+25]\n\tRtlGetAppContainerNamedObjectPath [0x77877C5E+286]\n\tRtlGetAppContainerNamedObjectPath [0x77877C2E+238]\n\t(No symbol) [0x00000000]\n",
     "output_type": "error",
     "traceback": [
      "\u001b[1;31m---------------------------------------------------------------------------\u001b[0m",
      "\u001b[1;31mTimeoutException\u001b[0m                          Traceback (most recent call last)",
      "Cell \u001b[1;32mIn[34], line 16\u001b[0m\n\u001b[0;32m     13\u001b[0m driver\u001b[38;5;241m.\u001b[39mget(\u001b[38;5;124m\"\u001b[39m\u001b[38;5;124mhttp://192.168.50.110/landing/home\u001b[39m\u001b[38;5;124m\"\u001b[39m)\n\u001b[0;32m     15\u001b[0m \u001b[38;5;66;03m# Click on the Clerk Menu link\u001b[39;00m\n\u001b[1;32m---> 16\u001b[0m clerk_menu \u001b[38;5;241m=\u001b[39m \u001b[43mWebDriverWait\u001b[49m\u001b[43m(\u001b[49m\u001b[43mdriver\u001b[49m\u001b[43m,\u001b[49m\u001b[43m \u001b[49m\u001b[38;5;241;43m10\u001b[39;49m\u001b[43m)\u001b[49m\u001b[38;5;241;43m.\u001b[39;49m\u001b[43muntil\u001b[49m\u001b[43m(\u001b[49m\u001b[43mEC\u001b[49m\u001b[38;5;241;43m.\u001b[39;49m\u001b[43melement_to_be_clickable\u001b[49m\u001b[43m(\u001b[49m\u001b[43m(\u001b[49m\u001b[43mBy\u001b[49m\u001b[38;5;241;43m.\u001b[39;49m\u001b[43mXPATH\u001b[49m\u001b[43m,\u001b[49m\u001b[43m \u001b[49m\u001b[38;5;124;43m\"\u001b[39;49m\u001b[38;5;124;43m//a[contains(text(), \u001b[39;49m\u001b[38;5;124;43m'\u001b[39;49m\u001b[38;5;124;43mClerk Menu\u001b[39;49m\u001b[38;5;124;43m'\u001b[39;49m\u001b[38;5;124;43m)]\u001b[39;49m\u001b[38;5;124;43m\"\u001b[39;49m\u001b[43m)\u001b[49m\u001b[43m)\u001b[49m\u001b[43m)\u001b[49m\n\u001b[0;32m     17\u001b[0m clerk_menu\u001b[38;5;241m.\u001b[39mclick()\n\u001b[0;32m     19\u001b[0m \u001b[38;5;66;03m# Click on the Upload Document link\u001b[39;00m\n",
      "File \u001b[1;32m~\\Anaconda3\\lib\\site-packages\\selenium\\webdriver\\support\\wait.py:95\u001b[0m, in \u001b[0;36mWebDriverWait.until\u001b[1;34m(self, method, message)\u001b[0m\n\u001b[0;32m     93\u001b[0m     \u001b[38;5;28;01mif\u001b[39;00m time\u001b[38;5;241m.\u001b[39mmonotonic() \u001b[38;5;241m>\u001b[39m end_time:\n\u001b[0;32m     94\u001b[0m         \u001b[38;5;28;01mbreak\u001b[39;00m\n\u001b[1;32m---> 95\u001b[0m \u001b[38;5;28;01mraise\u001b[39;00m TimeoutException(message, screen, stacktrace)\n",
      "\u001b[1;31mTimeoutException\u001b[0m: Message: \nStacktrace:\n\tGetHandleVerifier [0x002F4CE3+225091]\n\t(No symbol) [0x00224E31]\n\t(No symbol) [0x000C9A7A]\n\t(No symbol) [0x0010175B]\n\t(No symbol) [0x0010188B]\n\t(No symbol) [0x00137882]\n\t(No symbol) [0x0011F5A4]\n\t(No symbol) [0x00135CB0]\n\t(No symbol) [0x0011F2F6]\n\t(No symbol) [0x000F79B9]\n\t(No symbol) [0x000F879D]\n\tsqlite3_dbdata_init [0x00769A83+4064547]\n\tsqlite3_dbdata_init [0x0077108A+4094762]\n\tsqlite3_dbdata_init [0x0076B988+4072488]\n\tsqlite3_dbdata_init [0x0046C9E9+930953]\n\t(No symbol) [0x00230804]\n\t(No symbol) [0x0022AD28]\n\t(No symbol) [0x0022AE51]\n\t(No symbol) [0x0021CAC0]\n\tBaseThreadInitThunk [0x774BFCC9+25]\n\tRtlGetAppContainerNamedObjectPath [0x77877C5E+286]\n\tRtlGetAppContainerNamedObjectPath [0x77877C2E+238]\n\t(No symbol) [0x00000000]\n"
     ]
    }
   ],
   "source": [
    "from selenium import webdriver\n",
    "from selenium.webdriver.common.by import By\n",
    "from selenium.webdriver.support.ui import WebDriverWait\n",
    "from selenium.webdriver.support import expected_conditions as EC\n",
    "\n",
    "# Specify the path to chromedriver.exe (download and save on your computer)\n",
    "chromedriver_path = 'C:/Users/gabriel.githinji/Desktop/areawork/chromedriver-win32/chromedriver.exe'\n",
    "\n",
    "# Initialize Chrome WebDriver\n",
    "driver = webdriver.Chrome(executable_path=chromedriver_path)\n",
    "\n",
    "# Open the webpage\n",
    "driver.get(\"http://192.168.50.110/landing/home\")\n",
    "\n",
    "# Click on the Clerk Menu link\n",
    "clerk_menu = WebDriverWait(driver, 10).until(EC.element_to_be_clickable((By.XPATH, \"//a[contains(text(), 'Clerk Menu')]\")))\n",
    "clerk_menu.click()\n",
    "\n",
    "# Click on the Upload Document link\n",
    "upload_document = WebDriverWait(driver, 10).until(EC.element_to_be_clickable((By.XPATH, \"//a[contains(text(), 'Upload Document')]\")))\n",
    "upload_document.click()\n",
    "\n",
    "# Find the file input element and send keys to upload file\n",
    "file_input = WebDriverWait(driver, 10).until(EC.element_to_be_clickable((By.CSS_SELECTOR, \"input[type='file']\")))\n",
    "file_input.send_keys(\"\\\\192.168.17.184\\muranga scans\\MURANGA\\LOCATIONS\\TOWNPLOTS\\LOC_1 TOWNPLOTS\\LOC 1_TOWN PLOTS_T.1-T.587\\TRAY 4_KIUNYU_T.57-T.88\")\n"
   ]
  },
  {
   "cell_type": "code",
   "execution_count": 37,
   "id": "12252384",
   "metadata": {},
   "outputs": [
    {
     "name": "stderr",
     "output_type": "stream",
     "text": [
      "C:\\Users\\gabriel.githinji\\AppData\\Local\\Temp\\ipykernel_246532\\68475774.py:13: DeprecationWarning: executable_path has been deprecated, please pass in a Service object\n",
      "  driver = webdriver.Chrome(executable_path=chromedriver_path)\n"
     ]
    },
    {
     "ename": "TimeoutException",
     "evalue": "Message: \nStacktrace:\n\tGetHandleVerifier [0x002F4CE3+225091]\n\t(No symbol) [0x00224E31]\n\t(No symbol) [0x000C9A7A]\n\t(No symbol) [0x0010175B]\n\t(No symbol) [0x0010188B]\n\t(No symbol) [0x00137882]\n\t(No symbol) [0x0011F5A4]\n\t(No symbol) [0x00135CB0]\n\t(No symbol) [0x0011F2F6]\n\t(No symbol) [0x000F79B9]\n\t(No symbol) [0x000F879D]\n\tsqlite3_dbdata_init [0x00769A83+4064547]\n\tsqlite3_dbdata_init [0x0077108A+4094762]\n\tsqlite3_dbdata_init [0x0076B988+4072488]\n\tsqlite3_dbdata_init [0x0046C9E9+930953]\n\t(No symbol) [0x00230804]\n\t(No symbol) [0x0022AD28]\n\t(No symbol) [0x0022AE51]\n\t(No symbol) [0x0021CAC0]\n\tBaseThreadInitThunk [0x774BFCC9+25]\n\tRtlGetAppContainerNamedObjectPath [0x77877C5E+286]\n\tRtlGetAppContainerNamedObjectPath [0x77877C2E+238]\n\t(No symbol) [0x00000000]\n",
     "output_type": "error",
     "traceback": [
      "\u001b[1;31m---------------------------------------------------------------------------\u001b[0m",
      "\u001b[1;31mTimeoutException\u001b[0m                          Traceback (most recent call last)",
      "Cell \u001b[1;32mIn[37], line 19\u001b[0m\n\u001b[0;32m     16\u001b[0m driver\u001b[38;5;241m.\u001b[39mget(url)\n\u001b[0;32m     18\u001b[0m \u001b[38;5;66;03m# Find the inbox button and get the number of unread emails\u001b[39;00m\n\u001b[1;32m---> 19\u001b[0m inbox_button \u001b[38;5;241m=\u001b[39m \u001b[43mWebDriverWait\u001b[49m\u001b[43m(\u001b[49m\u001b[43mdriver\u001b[49m\u001b[43m,\u001b[49m\u001b[43m \u001b[49m\u001b[38;5;241;43m10\u001b[39;49m\u001b[43m)\u001b[49m\u001b[38;5;241;43m.\u001b[39;49m\u001b[43muntil\u001b[49m\u001b[43m(\u001b[49m\u001b[43mEC\u001b[49m\u001b[38;5;241;43m.\u001b[39;49m\u001b[43melement_to_be_clickable\u001b[49m\u001b[43m(\u001b[49m\u001b[43m(\u001b[49m\u001b[43mBy\u001b[49m\u001b[38;5;241;43m.\u001b[39;49m\u001b[43mXPATH\u001b[49m\u001b[43m,\u001b[49m\u001b[43m \u001b[49m\u001b[38;5;124;43m\"\u001b[39;49m\u001b[38;5;124;43m//a[contains(@aria-label, \u001b[39;49m\u001b[38;5;124;43m'\u001b[39;49m\u001b[38;5;124;43mInbox\u001b[39;49m\u001b[38;5;124;43m'\u001b[39;49m\u001b[38;5;124;43m)]\u001b[39;49m\u001b[38;5;124;43m\"\u001b[39;49m\u001b[43m)\u001b[49m\u001b[43m)\u001b[49m\u001b[43m)\u001b[49m\n\u001b[0;32m     20\u001b[0m unread_count \u001b[38;5;241m=\u001b[39m inbox_button\u001b[38;5;241m.\u001b[39mtext\u001b[38;5;241m.\u001b[39msplit()[\u001b[38;5;241m1\u001b[39m]  \u001b[38;5;66;03m# Extract the number of unread emails\u001b[39;00m\n\u001b[0;32m     21\u001b[0m \u001b[38;5;28mprint\u001b[39m(\u001b[38;5;124m\"\u001b[39m\u001b[38;5;124mUnread emails in Inbox:\u001b[39m\u001b[38;5;124m\"\u001b[39m, unread_count)\n",
      "File \u001b[1;32m~\\Anaconda3\\lib\\site-packages\\selenium\\webdriver\\support\\wait.py:95\u001b[0m, in \u001b[0;36mWebDriverWait.until\u001b[1;34m(self, method, message)\u001b[0m\n\u001b[0;32m     93\u001b[0m     \u001b[38;5;28;01mif\u001b[39;00m time\u001b[38;5;241m.\u001b[39mmonotonic() \u001b[38;5;241m>\u001b[39m end_time:\n\u001b[0;32m     94\u001b[0m         \u001b[38;5;28;01mbreak\u001b[39;00m\n\u001b[1;32m---> 95\u001b[0m \u001b[38;5;28;01mraise\u001b[39;00m TimeoutException(message, screen, stacktrace)\n",
      "\u001b[1;31mTimeoutException\u001b[0m: Message: \nStacktrace:\n\tGetHandleVerifier [0x002F4CE3+225091]\n\t(No symbol) [0x00224E31]\n\t(No symbol) [0x000C9A7A]\n\t(No symbol) [0x0010175B]\n\t(No symbol) [0x0010188B]\n\t(No symbol) [0x00137882]\n\t(No symbol) [0x0011F5A4]\n\t(No symbol) [0x00135CB0]\n\t(No symbol) [0x0011F2F6]\n\t(No symbol) [0x000F79B9]\n\t(No symbol) [0x000F879D]\n\tsqlite3_dbdata_init [0x00769A83+4064547]\n\tsqlite3_dbdata_init [0x0077108A+4094762]\n\tsqlite3_dbdata_init [0x0076B988+4072488]\n\tsqlite3_dbdata_init [0x0046C9E9+930953]\n\t(No symbol) [0x00230804]\n\t(No symbol) [0x0022AD28]\n\t(No symbol) [0x0022AE51]\n\t(No symbol) [0x0021CAC0]\n\tBaseThreadInitThunk [0x774BFCC9+25]\n\tRtlGetAppContainerNamedObjectPath [0x77877C5E+286]\n\tRtlGetAppContainerNamedObjectPath [0x77877C2E+238]\n\t(No symbol) [0x00000000]\n"
     ]
    }
   ],
   "source": [
    "#gmail\n",
    "\n",
    "from selenium import webdriver\n",
    "from selenium.webdriver.common.by import By\n",
    "from selenium.webdriver.support.ui import WebDriverWait\n",
    "from selenium.webdriver.support import expected_conditions as EC\n",
    "\n",
    "# URL of the Gmail inbox\n",
    "url = \"https://mail.google.com/mail/u/0/#inbox\"\n",
    "\n",
    "# Specify the path to chromedriver.exe (download and save on your computer)\n",
    "chromedriver_path = 'C:/Users/gabriel.githinji/Desktop/areawork/chromedriver-win32/chromedriver.exe'\n",
    "\n",
    "# Initialize Chrome WebDriver\n",
    "driver = webdriver.Chrome(executable_path=chromedriver_path)\n",
    "\n",
    "# Open the webpage\n",
    "driver.get(url)\n",
    "\n",
    "# Find the inbox button and get the number of unread emails\n",
    "inbox_button = WebDriverWait(driver, 10).until(EC.element_to_be_clickable((By.XPATH, \"//a[contains(@aria-label, 'Inbox')]\")))\n",
    "unread_count = inbox_button.text.split()[1]  # Extract the number of unread emails\n",
    "print(\"Unread emails in Inbox:\", unread_count)\n",
    "\n",
    "# Find the latest email sender\n",
    "latest_email_sender = WebDriverWait(driver, 10).until(EC.presence_of_element_located((By.XPATH, \"//span[@email]\")))\n",
    "print(\"Latest email sender:\", latest_email_sender.text)\n",
    "\n",
    "# Find the latest email message\n",
    "latest_email_message = WebDriverWait(driver, 10).until(EC.presence_of_element_located((By.XPATH, \"//div[@class='iA g6']\")))\n",
    "print(\"Latest email message:\", latest_email_message.text)\n",
    "\n",
    "# Close the WebDriver\n",
    "driver.quit()\n"
   ]
  },
  {
   "cell_type": "code",
   "execution_count": 75,
   "id": "044c92c0",
   "metadata": {},
   "outputs": [
    {
     "name": "stderr",
     "output_type": "stream",
     "text": [
      "C:\\Users\\gabriel.githinji\\AppData\\Local\\Temp\\ipykernel_246532\\4149371789.py:26: DeprecationWarning: executable_path has been deprecated, please pass in a Service object\n",
      "  driver = webdriver.Chrome(executable_path=chromedriver_path, options=chrome_options)\n"
     ]
    }
   ],
   "source": [
    "from selenium import webdriver\n",
    "from selenium.webdriver.chrome.options import Options\n",
    "from selenium.webdriver.common.by import By\n",
    "from selenium.webdriver.support.ui import WebDriverWait\n",
    "from selenium.webdriver.support import expected_conditions as EC\n",
    "\n",
    "# Specify the path to chromedriver.exe\n",
    "chromedriver_path = 'C:/Users/gabriel.githinji/Desktop/areawork/chromedriver-win32/chromedriver.exe'\n",
    "\n",
    "# Create ChromeOptions object\n",
    "chrome_options = Options()\n",
    "\n",
    "# Add arguments to simulate a real user\n",
    "chrome_options.add_argument(\"--disable-blink-features=AutomationControlled\")\n",
    "chrome_options.add_argument(\"--disable-dev-shm-usage\")\n",
    "chrome_options.add_argument(\"--disable-gpu\")\n",
    "chrome_options.add_argument(\"--no-sandbox\")\n",
    "chrome_options.add_argument(\"--disable-extensions\")\n",
    "chrome_options.add_argument(\"--disable-notifications\")\n",
    "chrome_options.add_argument(\"--disable-infobars\")\n",
    "chrome_options.add_argument(\"--disable-popup-blocking\")\n",
    "chrome_options.add_argument(\"--disable-web-security\")\n",
    "chrome_options.add_argument(\"--ignore-certificate-errors\")\n",
    "\n",
    "# Initialize Chrome WebDriver with options\n",
    "driver = webdriver.Chrome(executable_path=chromedriver_path, options=chrome_options)\n",
    "\n",
    "# Open the webpage\n",
    "driver.get(\"http://192.168.50.110/authentication/login\")\n",
    "\n",
    "# Target the username field and enter username\n",
    "username = WebDriverWait(driver, 10).until(EC.element_to_be_clickable((By.CSS_SELECTOR, \"input[formcontrolname='username']\")))\n",
    "username.clear()    \n",
    "username.send_keys(\"gabriel.githinji\")\n",
    "\n",
    "# Target the password field and enter password\n",
    "password = WebDriverWait(driver, 10).until(EC.element_to_be_clickable((By.CSS_SELECTOR, \"input[formcontrolname='password']\")))\n",
    "password.clear()\n",
    "password.send_keys(\"G!th!nj!77\")\n",
    "\n",
    "# Target the login button and click it\n",
    "button = WebDriverWait(driver, 10).until(EC.element_to_be_clickable((By.CSS_SELECTOR, \"button[type='button']\")))\n",
    "button.click()\n"
   ]
  },
  {
   "cell_type": "code",
   "execution_count": null,
   "id": "a13eb196",
   "metadata": {},
   "outputs": [],
   "source": []
  }
 ],
 "metadata": {
  "kernelspec": {
   "display_name": "Python 3 (ipykernel)",
   "language": "python",
   "name": "python3"
  },
  "language_info": {
   "codemirror_mode": {
    "name": "ipython",
    "version": 3
   },
   "file_extension": ".py",
   "mimetype": "text/x-python",
   "name": "python",
   "nbconvert_exporter": "python",
   "pygments_lexer": "ipython3",
   "version": "3.8.8"
  }
 },
 "nbformat": 4,
 "nbformat_minor": 5
}
